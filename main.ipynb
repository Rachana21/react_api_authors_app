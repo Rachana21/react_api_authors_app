{
 "cells": [
  {
   "cell_type": "markdown",
   "metadata": {},
   "source": [
    "### Part 1: Query the database "
   ]
  },
  {
   "cell_type": "code",
   "execution_count": 2,
   "metadata": {
    "vscode": {
     "languageId": "powershell"
    }
   },
   "outputs": [
    {
     "name": "stdout",
     "output_type": "stream",
     "text": [
      "10|Jason Dave|jdave@gmail.com|1834-04-09\n",
      "1|Abigail Allan|aallan@gmail.com|1870-08-09\n",
      "2|Blake Evan|bevan@gmail.com|1918-10-12\n",
      "7|Jake Don|jdon@gmail.com|1928-07-08\n",
      "11|Jason Allam|jallam@gmail.com|1966-04-09\n",
      "6|Rick Morty|rmorty@gmail.com|1970-05-08\n",
      "12|Jason Rick|jrick@gmail.com|1978-07-09\n",
      "8|Rachel Don|rdon@gmail.com|1980-06-08\n",
      "14|Tom Rick|trick@gmail.com|1980-09-09\n",
      "5|Dylan Gordon|dgordon@gmail.com|1981-03-05\n",
      "90\n",
      "Abigail Allan|157\n",
      "Tom Rick|129\n",
      "Jason Rick|116\n",
      "Dan Don|116\n",
      "Jake Don|111\n",
      "Rachel Don|92\n",
      "Lorelai Gilmore|90\n",
      "Kyle Tom|85\n",
      "Jason Allam|75\n",
      "Rick Morty|64\n"
     ]
    }
   ],
   "source": [
    "!sqlite3 mydatabase.db < addData.sql\n",
    "!sqlite3 mydatabase.db < part1.sql"
   ]
  }
 ],
 "metadata": {
  "kernelspec": {
   "display_name": "Python 3",
   "language": "python",
   "name": "python3"
  },
  "language_info": {
   "codemirror_mode": {
    "name": "ipython",
    "version": 3
   },
   "file_extension": ".py",
   "mimetype": "text/x-python",
   "name": "python",
   "nbconvert_exporter": "python",
   "pygments_lexer": "ipython3",
   "version": "3.8.8"
  }
 },
 "nbformat": 4,
 "nbformat_minor": 2
}
